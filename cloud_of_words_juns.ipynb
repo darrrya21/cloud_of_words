{
 "cells": [
  {
   "cell_type": "code",
   "execution_count": 1,
   "metadata": {},
   "outputs": [],
   "source": [
    "import requests\n",
    "import json\n",
    "import pandas as pd\n",
    "from wordcloud import WordCloud\n",
    "import matplotlib.pyplot as plt"
   ]
  },
  {
   "cell_type": "code",
   "execution_count": 2,
   "metadata": {},
   "outputs": [],
   "source": [
    "url = 'https://api.hh.ru/vacancies'\n",
    "r = requests.get(url, params={'text': 'junior data', 'per_page': 100, 'page': 0})"
   ]
  },
  {
   "cell_type": "code",
   "execution_count": 3,
   "metadata": {},
   "outputs": [],
   "source": [
    "n_pages = json.loads(r.text)['pages']"
   ]
  },
  {
   "cell_type": "code",
   "execution_count": 4,
   "metadata": {},
   "outputs": [],
   "source": [
    "ids = []\n",
    "for page in range(n_pages): \n",
    "    req = requests.get(url, params={'text': 'junior data', 'per_page': 100, 'page':page})\n",
    "    items = json.loads(req.text)['items']\n",
    "    for vacancy in items: \n",
    "        ids.append(vacancy['id'])\n",
    "        "
   ]
  },
  {
   "cell_type": "code",
   "execution_count": 5,
   "metadata": {},
   "outputs": [],
   "source": [
    "key_skills = []\n",
    "for id_i in ids: \n",
    "    req_vacancy = requests.get(url + '/' + id_i)\n",
    "    items = json.loads(req_vacancy.text)\n",
    "    key_skills.append([x['name'] for x in items['key_skills'] if x])"
   ]
  },
  {
   "cell_type": "code",
   "execution_count": 6,
   "metadata": {},
   "outputs": [],
   "source": [
    "key_skills_words = [word.replace(' ', '_') for l in key_skills for word  in l]"
   ]
  },
  {
   "cell_type": "code",
   "execution_count": 7,
   "metadata": {},
   "outputs": [
    {
     "data": {
      "text/plain": [
       "Index(['SQL', 'Python', 'Английский_язык', 'Java', 'Linux', 'Git',\n",
       "       'Google_Analytics', 'MS_PowerPoint', 'PostgreSQL', 'Анализ_данных',\n",
       "       'JavaScript', 'Яндекс.Метрика', 'C++', 'Разработка_технических_заданий',\n",
       "       'Data_Analysis', 'Математическая_статистика', 'ООП', 'MS_SQL',\n",
       "       'Project_management', 'MS_Excel', 'Работа_с_базами_данных', 'C#',\n",
       "       'Spring_Framework', 'HTML', 'Big_Data', 'Data_Mining', 'Amplitude',\n",
       "       'Market_Research', 'Business_English', 'Atlassian_Jira', 'ORACLE',\n",
       "       'Analytical_skills', 'MySQL', 'SCALA', 'CSS', 'Node.js',\n",
       "       'Управление_проектами', 'AWS', 'MS_Outlook', 'Базы_данных', 'Bash',\n",
       "       'Работа_в_команде', 'Financial_Analysis', 'Presentation_skills',\n",
       "       'Статистический_анализ', 'Интернет-реклама', 'Java_SE', 'MongoDB',\n",
       "       'Google_AdWords', 'Organization_Skills', 'Objective-C',\n",
       "       '1С:_Управление_Торговлей', 'GCP', '1С', 'ERP-системы_на_базе_1С',\n",
       "       'Обучение_и_развитие', 'ETL', 'MS_Access', 'Бизнес-анализ', 'Scrum',\n",
       "       'Подбор_персонала', 'Аналитическое_мышление', 'MS_SQL_Server',\n",
       "       'Agile_Project_Management', 'Time_management', 'Product_Management',\n",
       "       'iOS', 'Power_BI', 'Маркетинговый_анализ', 'Hibernate_ORM',\n",
       "       'TypeScript', 'Ориентация_на_результат', 'React', 'Google_Docs',\n",
       "       'Рекрутмент', 'Аналитические_исследования', 'NLP', 'Mac_Os',\n",
       "       'Django_Framework', 'Teamplayer', 'Leadership_Skills', 'MATLAB',\n",
       "       'Пользователь_ПК', 'VBA', 'Информационные_технологии', 'Teamleading',\n",
       "       'Product_Marketing', 'AngularJS', 'UML', 'Контекстная_реклама',\n",
       "       'Управленческая_отчетность', 'Разработка_нового_продукта', 'SAP',\n",
       "       'Business_Analysis', 'Финансовая_отчетность', 'Digital_Marketing',\n",
       "       '.NET_Framework', 'Team_management', 'Machine_learning', 'docker'],\n",
       "      dtype='object')"
      ]
     },
     "execution_count": 7,
     "metadata": {},
     "output_type": "execute_result"
    }
   ],
   "source": [
    "pd.value_counts(key_skills_words)[:100].index"
   ]
  },
  {
   "cell_type": "code",
   "execution_count": 8,
   "metadata": {},
   "outputs": [],
   "source": [
    "text = ' '.join(key_skills_words)"
   ]
  },
  {
   "cell_type": "code",
   "execution_count": 9,
   "metadata": {},
   "outputs": [],
   "source": [
    "wc = WordCloud(width=1024, height=768, max_words=100).generate(text)"
   ]
  },
  {
   "cell_type": "code",
   "execution_count": 16,
   "metadata": {},
   "outputs": [
    {
     "data": {
      "text/plain": [
       "<wordcloud.wordcloud.WordCloud at 0x2754d2b1ee0>"
      ]
     },
     "execution_count": 16,
     "metadata": {},
     "output_type": "execute_result"
    }
   ],
   "source": [
    "wc.to_file('word_cloud.png')"
   ]
  }
 ],
 "metadata": {
  "kernelspec": {
   "display_name": "Python 3",
   "language": "python",
   "name": "python3"
  },
  "language_info": {
   "codemirror_mode": {
    "name": "ipython",
    "version": 3
   },
   "file_extension": ".py",
   "mimetype": "text/x-python",
   "name": "python",
   "nbconvert_exporter": "python",
   "pygments_lexer": "ipython3",
   "version": "3.8.5"
  }
 },
 "nbformat": 4,
 "nbformat_minor": 4
}
